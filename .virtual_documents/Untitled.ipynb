





import pandas as pd
import numpy as np
import seaborn as sns
import matplotlib.pyplot as plt
import warnings
warnings.filterwarnings('ignore')





pd.set_option('display.max_rows', 10000)
pd.set_option('display.max_columns', 10000)





data = pd.read_csv('transaction_anomalies_dataset.csv')


data.head()





data.shape





data.info()





data.describe().T





data.isnull().sum()





data.duplicated().sum()





data.dtypes





plt.subplots(figsize = (15, 5))
plt.title('Distribution of Transaction Amount')
sns.histplot(data = data, x = 'Transaction_Amount', kde = True, color = 'red')
plt.show()





plt.subplots(figsize = (15, 5))
plt.title('Distribution of Transaction Amount by Account type')
sns.histplot(data = data, x = 'Transaction_Amount', kde = True, color = 'red', hue = 'Account_Type')
plt.show()





plt.subplots(figsize = (15, 5))
plt.title('Distribution of Transaction Amount by Account type')
sns.boxplot(data = data, y = 'Transaction_Amount', x = 'Account_Type', color = 'red')
plt.show()





plt.subplots(figsize = (15, 5))
plt.title('Average Transaction Amount Vs age')
sns.scatterplot(data = data, x = 'Average_Transaction_Amount', y = 'Age', hue = 'Account_Type')
plt.show()








plt.subplots(figsize = (15, 5))
plt.title('Count of Transactions by day of the week')
sns.barplot(data = data, x = 'Day_of_Week', y = 'Frequency_of_Transactions')
plt.show()





correlation = data.corr(numeric_only = True)


plt.subplots(figsize = (15, 5))
plt.title('Correlation of all columns')
sns.heatmap(correlation)
plt.show()








mean_amount = data['Transaction_Amount'].mean()


mean_amount


std_amount = data['Transaction_Amount'].std()


std_amount








anomaly_threshold = mean_amount + 2*std_amount


anomaly_threshold








data['Is_anomaly'] = data['Transaction_Amount'] > anomaly_threshold


data.head()











plt.subplots(figsize = (15, 5))
plt.title('Transactions with Anomalies')
sns.scatterplot(data = data, x = 'Transaction_Amount', y = 'Average_Transaction_Amount', hue = 'Is_anomaly')
plt.show()











num_anomalies = data['Is_anomaly'].sum()


num_anomalies


data['Is_anomaly'].value_counts()


#anomaly ration

20/1000











relevant_features = ['Transaction_Amount',
                     'Average_Transaction_Amount',
                     'Frequency_of_Transactions']


X = data[relevant_features]

y = data['Is_anomaly']





from sklearn.model_selection import train_test_split


X_train, X_test, y_train, y_test = train_test_split(X, y, test_size = 0.2, random_state = 42)


X_train.shape, X_test.shape, y_train.shape, y_test.shape





from sklearn.ensemble import IsolationForest


model = IsolationForest(contamination = 0.02)


model.fit(X_train, y_train)


y_pred = model.predict(X_test)


y_pred


y_pred_binary = [1 if pred == -1 else 0 for pred in y_pred]





from sklearn.metrics import classification_report


report = classification_report(y_test, y_pred_binary, target_names = ['Normal', 'Anomaly'])


print(report)



